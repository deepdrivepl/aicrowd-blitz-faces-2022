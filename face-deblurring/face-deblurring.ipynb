{
 "cells": [
  {
   "cell_type": "markdown",
   "metadata": {},
   "source": [
    "In this task we use the [U<sup>2</sup>-Net model architecture](https://github.com/xuebinqin/U-2-Net/blob/master/model/u2net_refactor.py). "
   ]
  },
  {
   "cell_type": "markdown",
   "metadata": {
    "id": "pYnuxNvIJZRn"
   },
   "source": [
    "\n",
    "# Download the files\n",
    "## Download AIcrowd CLI"
   ]
  },
  {
   "cell_type": "code",
   "execution_count": null,
   "metadata": {
    "colab": {
     "base_uri": "https://localhost:8080/",
     "height": 1000
    },
    "executionInfo": {
     "elapsed": 8692,
     "status": "ok",
     "timestamp": 1643972797023,
     "user": {
      "displayName": "Shubham Gupta",
      "photoUrl": "https://lh3.googleusercontent.com/a-/AOh14GhS5-iRa3vVUuZiX_Z7V-1UnZGucABACRmCr-oI5w=s64",
      "userId": "17522365767953126894"
     },
     "user_tz": -330
    },
    "id": "m4w04PPgJf3T",
    "outputId": "ab6d3351-6bf1-47fe-cce6-ca0ae4fc61d6"
   },
   "outputs": [],
   "source": [
    "!pip install aicrowd-cli\n",
    "%load_ext aicrowd.magic"
   ]
  },
  {
   "cell_type": "markdown",
   "metadata": {
    "id": "aqmhTshfJzbz"
   },
   "source": [
    "\n",
    "## Login to AIcrowd\n"
   ]
  },
  {
   "cell_type": "code",
   "execution_count": 2,
   "metadata": {
    "colab": {
     "base_uri": "https://localhost:8080/"
    },
    "executionInfo": {
     "elapsed": 26998,
     "status": "ok",
     "timestamp": 1643972823987,
     "user": {
      "displayName": "Shubham Gupta",
      "photoUrl": "https://lh3.googleusercontent.com/a-/AOh14GhS5-iRa3vVUuZiX_Z7V-1UnZGucABACRmCr-oI5w=s64",
      "userId": "17522365767953126894"
     },
     "user_tz": -330
    },
    "id": "5vRJiRKJJoe2",
    "outputId": "15df5f0b-a6f2-4092-8261-e30a566bb099"
   },
   "outputs": [
    {
     "name": "stdout",
     "output_type": "stream",
     "text": [
      "Please login here: \u001b[34m\u001b[1m\u001b[4mhttps://api.aicrowd.com/auth/4hYw89LWS99FvIfan3Sv23267Ig5jUhe5FCingVv1yo\u001b[0m\n",
      "\u001b[32mAPI Key valid\u001b[0m\n",
      "\u001b[32mGitlab access token valid\u001b[0m\n",
      "\u001b[32mSaved details successfully!\u001b[0m\n"
     ]
    }
   ],
   "source": [
    "%aicrowd login"
   ]
  },
  {
   "cell_type": "markdown",
   "metadata": {
    "id": "1Qavs9YbJ-_z"
   },
   "source": [
    "\n",
    "## Download Dataset\n",
    "\n",
    "We will create a folder name data and download the files there.\n"
   ]
  },
  {
   "cell_type": "code",
   "execution_count": 3,
   "metadata": {
    "colab": {
     "base_uri": "https://localhost:8080/",
     "height": 113,
     "referenced_widgets": [
      "b37f1bda96974e53967cd9dbeea232cb",
      "0b13e7e727c04e518fe26007a356236b",
      "0c24da5a59a84b1bb44d672f6b9c8de7",
      "495facb619804687b2f1e8898593810a",
      "7cb0cfc18de24bddb3efa90f188ad9b0",
      "d7738272e0f64d00b750a16564c106a0",
      "73b70ad23de746b491ada43ddc5cdfee",
      "e948611071d045b8823e21e76d4813b9",
      "fdbdea02041341bea56fd63f590a47cf",
      "f3380f75b2524f4888837719aae5597c",
      "8561a388eb5d43208d8113864868cc49",
      "dd24d4557b5547448260f528afa97556",
      "3f17b80914524b499fd6b3fafa51e697",
      "d856e04f48984d0a8ef1eaf4dfeb40fe",
      "10158ee131b94125a6a83912bdc8cdf7",
      "3d0d583f85c44614b546d7d9b69a43d0",
      "d132f82435374d1393afcbd055058adb",
      "9387f65520ca44918fbdd6236d906c83",
      "4f50c2688fa147adad45ebf2dcefa558",
      "930bfd98b4274dffa2a49d977cdeb69d",
      "f85235a59f00443787c599e83a2c3cd1",
      "79d06d230d4340dcb13ed27770dd0d43",
      "760319e39e8047c193af2217983a545f",
      "21347a306000430983dfa1e3969231ac",
      "87a7969bd950471683634988232d28b4",
      "61d4e56c35664ea0a0e445ee7c13753e",
      "3660707b15824524b0ceec551e993887",
      "92945fe60ce24cc7ba9b89f2051c9759",
      "e099cd6b8a764daaa93c8de8ddb569ff",
      "ef825191ff5546298cd3718b9d98812c",
      "b449ef828871454cb20449ad354cb5b6",
      "c663f2ba8faa404c84e7713fe18b0ee7",
      "51cd5cfa7c724ef299e17b4d9294f70e"
     ]
    },
    "executionInfo": {
     "elapsed": 39610,
     "status": "ok",
     "timestamp": 1643972863561,
     "user": {
      "displayName": "Shubham Gupta",
      "photoUrl": "https://lh3.googleusercontent.com/a-/AOh14GhS5-iRa3vVUuZiX_Z7V-1UnZGucABACRmCr-oI5w=s64",
      "userId": "17522365767953126894"
     },
     "user_tz": -330
    },
    "id": "YQI8-4M7KE2W",
    "outputId": "b0cb9836-49c3-44fc-ed7f-cf72476d8b41"
   },
   "outputs": [
    {
     "data": {
      "application/vnd.jupyter.widget-view+json": {
       "model_id": "b37f1bda96974e53967cd9dbeea232cb",
       "version_major": 2,
       "version_minor": 0
      },
      "text/plain": [
       "test.zip:   0%|          | 0.00/42.1M [00:00<?, ?B/s]"
      ]
     },
     "metadata": {},
     "output_type": "display_data"
    },
    {
     "data": {
      "application/vnd.jupyter.widget-view+json": {
       "model_id": "dd24d4557b5547448260f528afa97556",
       "version_major": 2,
       "version_minor": 0
      },
      "text/plain": [
       "train.zip:   0%|          | 0.00/224M [00:00<?, ?B/s]"
      ]
     },
     "metadata": {},
     "output_type": "display_data"
    },
    {
     "data": {
      "application/vnd.jupyter.widget-view+json": {
       "model_id": "760319e39e8047c193af2217983a545f",
       "version_major": 2,
       "version_minor": 0
      },
      "text/plain": [
       "val.zip:   0%|          | 0.00/89.2M [00:00<?, ?B/s]"
      ]
     },
     "metadata": {},
     "output_type": "display_data"
    }
   ],
   "source": [
    "!rm -rf data\n",
    "!mkdir data\n",
    "%aicrowd ds dl -c face-de-blurring -o data"
   ]
  },
  {
   "cell_type": "code",
   "execution_count": 1,
   "metadata": {
    "executionInfo": {
     "elapsed": 5336,
     "status": "ok",
     "timestamp": 1643972868868,
     "user": {
      "displayName": "Shubham Gupta",
      "photoUrl": "https://lh3.googleusercontent.com/a-/AOh14GhS5-iRa3vVUuZiX_Z7V-1UnZGucABACRmCr-oI5w=s64",
      "userId": "17522365767953126894"
     },
     "user_tz": -330
    },
    "id": "pz5eGaJGoGoQ"
   },
   "outputs": [],
   "source": [
    "!unzip data/train.zip -d data/train > /dev/null\n",
    "!unzip data/val.zip -d data/val > /dev/null\n",
    "!unzip data/test.zip -d data/test > /dev/null"
   ]
  },
  {
   "cell_type": "markdown",
   "metadata": {
    "id": "Da9HOX9CF7Th"
   },
   "source": [
    "## Importing Libraries:"
   ]
  },
  {
   "cell_type": "code",
   "execution_count": 6,
   "metadata": {
    "executionInfo": {
     "elapsed": 39,
     "status": "ok",
     "timestamp": 1643972868869,
     "user": {
      "displayName": "Shubham Gupta",
      "photoUrl": "https://lh3.googleusercontent.com/a-/AOh14GhS5-iRa3vVUuZiX_Z7V-1UnZGucABACRmCr-oI5w=s64",
      "userId": "17522365767953126894"
     },
     "user_tz": -330
    },
    "id": "PKg7dTVDF9n0"
   },
   "outputs": [],
   "source": [
    "import pandas as pd\n",
    "import numpy as np\n",
    "import os\n",
    "import torch\n",
    "import torch.optim as optim\n",
    "import torch.nn as nn\n",
    "import math\n",
    "import torchvision\n",
    "import torchvision.transforms as T\n",
    "import torchvision.transforms.functional as F\n",
    "from PIL import Image\n",
    "from tqdm import tqdm\n",
    "from kornia.losses import ssim_loss\n",
    "import typing\n",
    "import random"
   ]
  },
  {
   "cell_type": "markdown",
   "metadata": {},
   "source": [
    "## Creating helper classes"
   ]
  },
  {
   "cell_type": "code",
   "execution_count": null,
   "metadata": {},
   "outputs": [],
   "source": [
    "class BlurDataset(torch.utils.data.Dataset):\n",
    "    def __init__(self, root, transforms):\n",
    "        self.root = root\n",
    "        self.transforms = transforms\n",
    "        # load all image files, sorting them to\n",
    "        # ensure that they are aligned\n",
    "        self.imgs = list(sorted(os.listdir(os.path.join(root, \"blur\"))))\n",
    "        self.targets = list(sorted(os.listdir(os.path.join(root, \"original\"))))\n",
    "\n",
    "    def __getitem__(self, idx):\n",
    "        # load images\n",
    "        img_path = os.path.join(self.root, \"blur\", self.imgs[idx])\n",
    "        target_path = os.path.join(self.root, \"original\", self.targets[idx])\n",
    "        img = Image.open(img_path).convert(\"RGB\")\n",
    "        width, height = img.size\n",
    "        if width != 512 or height != 512:\n",
    "            img = img.resize((512, 512))\n",
    "        target = Image.open(target_path).convert(\"RGB\")\n",
    "        width, height = target.size\n",
    "        if width != 512 or height != 512:\n",
    "            target = target.resize((512, 512))\n",
    "        if self.transforms is not None:\n",
    "            img, target = self.transforms(img, target)\n",
    "\n",
    "        return img, target\n",
    "\n",
    "    def __len__(self):\n",
    "        return len(self.imgs)"
   ]
  },
  {
   "cell_type": "code",
   "execution_count": null,
   "metadata": {},
   "outputs": [],
   "source": [
    "class TestBlurDataset(torch.utils.data.Dataset):\n",
    "    def __init__(self, root, transforms):\n",
    "        self.root = root\n",
    "        self.transforms = transforms\n",
    "        # load all image files\n",
    "        self.imgs = list(sorted(os.listdir(os.path.join(root, \"blur\"))))\n",
    "\n",
    "    def __getitem__(self, idx):\n",
    "        # load images\n",
    "        img_path = os.path.join(self.root, \"blur\", self.imgs[idx])\n",
    "        img = Image.open(img_path).convert(\"RGB\")\n",
    "        width, height = img.size\n",
    "        if width != 512 or height != 512:\n",
    "            img = img.resize((512, 512))\n",
    "        if self.transforms is not None:\n",
    "            img = self.transforms(img)\n",
    "\n",
    "        return img, self.imgs[idx] # for saving purposes\n",
    "\n",
    "    def __len__(self):\n",
    "        return len(self.imgs)"
   ]
  },
  {
   "cell_type": "markdown",
   "metadata": {
    "id": "UitqWMEr48hW"
   },
   "source": [
    "## Diving in the dataset"
   ]
  },
  {
   "cell_type": "code",
   "execution_count": 3,
   "metadata": {
    "executionInfo": {
     "elapsed": 38,
     "status": "ok",
     "timestamp": 1643972868870,
     "user": {
      "displayName": "Shubham Gupta",
      "photoUrl": "https://lh3.googleusercontent.com/a-/AOh14GhS5-iRa3vVUuZiX_Z7V-1UnZGucABACRmCr-oI5w=s64",
      "userId": "17522365767953126894"
     },
     "user_tz": -330
    },
    "id": "zI0bUy6OGLFH"
   },
   "outputs": [],
   "source": [
    "train_images = 'data/train'\n",
    "val_images = 'data/val'\n",
    "test_images = \"data/test\""
   ]
  },
  {
   "cell_type": "markdown",
   "metadata": {},
   "source": [
    "## Preprocessing"
   ]
  },
  {
   "cell_type": "code",
   "execution_count": null,
   "metadata": {},
   "outputs": [],
   "source": [
    "class Compose:\n",
    "    def __init__(self, transforms):\n",
    "        self.transforms = transforms\n",
    "\n",
    "    def __call__(self, image, target):\n",
    "        for t in self.transforms:\n",
    "            image, target = t(image, target)\n",
    "        return image, target\n",
    "\n",
    "\n",
    "class RandomHorizontalFlip(T.RandomHorizontalFlip):\n",
    "    def forward(\n",
    "        self, image: torch.Tensor, target: torch.Tensor\n",
    "    ) -> typing.Tuple[torch.Tensor, torch.Tensor]:\n",
    "        if torch.rand(1) < self.p:\n",
    "            image = F.hflip(image)\n",
    "            target = F.hflip(target)\n",
    "        return image, target\n",
    "\n",
    "\n",
    "class ToTensor(torch.nn.Module):\n",
    "    def forward(\n",
    "        self, image: torch.Tensor, target: torch.Tensor\n",
    "    ) -> typing.Tuple[torch.Tensor, torch.Tensor]:\n",
    "        image = F.pil_to_tensor(image)\n",
    "        image = F.convert_image_dtype(image)\n",
    "        target = F.pil_to_tensor(target)\n",
    "        target = F.convert_image_dtype(target)\n",
    "        return image, target\n",
    "    \n",
    "class RandomRotate(T.RandomRotation):\n",
    "    def forward(\n",
    "        self, image: torch.Tensor, target: torch.Tensor\n",
    "    ) -> typing.Tuple[torch.Tensor, torch.Tensor]:\n",
    "        angle = random.randint(self.degrees[0], self.degrees[1])\n",
    "        image = F.rotate(image, angle, fill=0)\n",
    "        target = F.rotate(target, angle, fill=0)\n",
    "        return image, target\n"
   ]
  },
  {
   "cell_type": "code",
   "execution_count": null,
   "metadata": {},
   "outputs": [],
   "source": [
    "def get_transform(train=False):\n",
    "    transforms = []\n",
    "    transforms.append(ToTensor())\n",
    "    if train:\n",
    "        transforms.append(RandomHorizontalFlip(0.5))\n",
    "        transforms.append(RandomRotate(degrees=30))\n",
    "    return Compose(transforms)"
   ]
  },
  {
   "cell_type": "code",
   "execution_count": null,
   "metadata": {},
   "outputs": [],
   "source": [
    "def get_test_transform():\n",
    "    transforms = []\n",
    "    transforms.append(T.ToTensor())\n",
    "    return T.Compose(transforms)"
   ]
  },
  {
   "cell_type": "code",
   "execution_count": null,
   "metadata": {},
   "outputs": [],
   "source": [
    "train_ds = BlurDataset(train_images, get_transform(True))\n",
    "val_ds = BlurDataset(val_images, get_transform())"
   ]
  },
  {
   "cell_type": "markdown",
   "metadata": {},
   "source": [
    "## Architecture"
   ]
  },
  {
   "cell_type": "code",
   "execution_count": null,
   "metadata": {},
   "outputs": [],
   "source": [
    "def _upsample_like(x, size):\n",
    "    return nn.Upsample(size=size, mode='bilinear', align_corners=False)(x)\n",
    "\n",
    "\n",
    "def _size_map(x, height):\n",
    "    # {height: size} for Upsample\n",
    "    size = list(x.shape[-2:])\n",
    "    sizes = {}\n",
    "    for h in range(1, height):\n",
    "        sizes[h] = size\n",
    "        size = [math.ceil(w / 2) for w in size]\n",
    "    return sizes\n",
    "\n",
    "\n",
    "class REBNCONV(nn.Module):\n",
    "    def __init__(self, in_ch=3, out_ch=3, dilate=1):\n",
    "        super(REBNCONV, self).__init__()\n",
    "\n",
    "        self.conv_s1 = nn.Conv2d(in_ch, out_ch, 3, padding=1 * dilate, dilation=1 * dilate)\n",
    "        self.bn_s1 = nn.BatchNorm2d(out_ch)\n",
    "        self.relu_s1 = nn.ReLU(inplace=True)\n",
    "\n",
    "    def forward(self, x):\n",
    "        return self.relu_s1(self.bn_s1(self.conv_s1(x)))\n",
    "\n",
    "\n",
    "class RSU(nn.Module):\n",
    "    def __init__(self, name, height, in_ch, mid_ch, out_ch, dilated=False):\n",
    "        super(RSU, self).__init__()\n",
    "        self.name = name\n",
    "        self.height = height\n",
    "        self.dilated = dilated\n",
    "        self._make_layers(height, in_ch, mid_ch, out_ch, dilated)\n",
    "\n",
    "    def forward(self, x):\n",
    "        sizes = _size_map(x, self.height)\n",
    "        x = self.rebnconvin(x)\n",
    "\n",
    "        # U-Net like symmetric encoder-decoder structure\n",
    "        def unet(x, height=1):\n",
    "            if height < self.height:\n",
    "                x1 = getattr(self, f'rebnconv{height}')(x)\n",
    "                if not self.dilated and height < self.height - 1:\n",
    "                    x2 = unet(getattr(self, 'downsample')(x1), height + 1)\n",
    "                else:\n",
    "                    x2 = unet(x1, height + 1)\n",
    "\n",
    "                x = getattr(self, f'rebnconv{height}d')(torch.cat((x2, x1), 1))\n",
    "                return _upsample_like(x, sizes[height - 1]) if not self.dilated and height > 1 else x\n",
    "            else:\n",
    "                return getattr(self, f'rebnconv{height}')(x)\n",
    "\n",
    "        return x + unet(x)\n",
    "\n",
    "    def _make_layers(self, height, in_ch, mid_ch, out_ch, dilated=False):\n",
    "        self.add_module('rebnconvin', REBNCONV(in_ch, out_ch))\n",
    "        self.add_module('downsample', nn.MaxPool2d(2, stride=2, ceil_mode=True))\n",
    "\n",
    "        self.add_module(f'rebnconv1', REBNCONV(out_ch, mid_ch))\n",
    "        self.add_module(f'rebnconv1d', REBNCONV(mid_ch * 2, out_ch))\n",
    "\n",
    "        for i in range(2, height):\n",
    "            dilate = 1 if not dilated else 2 ** (i - 1)\n",
    "            self.add_module(f'rebnconv{i}', REBNCONV(mid_ch, mid_ch, dilate=dilate))\n",
    "            self.add_module(f'rebnconv{i}d', REBNCONV(mid_ch * 2, mid_ch, dilate=dilate))\n",
    "\n",
    "        dilate = 2 if not dilated else 2 ** (height - 1)\n",
    "        self.add_module(f'rebnconv{height}', REBNCONV(mid_ch, mid_ch, dilate=dilate))\n",
    "\n",
    "\n",
    "class U2NET(nn.Module):\n",
    "    def __init__(self, cfgs, out_ch):\n",
    "        super(U2NET, self).__init__()\n",
    "        self.out_ch = out_ch\n",
    "        self._make_layers(cfgs)\n",
    "\n",
    "    def forward(self, x):\n",
    "        sizes = _size_map(x, self.height)\n",
    "        maps = []  # storage for maps\n",
    "\n",
    "        # side saliency map\n",
    "        def unet(x, height=1):\n",
    "            if height < 6:\n",
    "                x1 = getattr(self, f'stage{height}')(x)\n",
    "                x2 = unet(getattr(self, 'downsample')(x1), height + 1)\n",
    "                x = getattr(self, f'stage{height}d')(torch.cat((x2, x1), 1))\n",
    "                side(x, height)\n",
    "                return _upsample_like(x, sizes[height - 1]) if height > 1 else x\n",
    "            else:\n",
    "                x = getattr(self, f'stage{height}')(x)\n",
    "                side(x, height)\n",
    "                return _upsample_like(x, sizes[height - 1])\n",
    "\n",
    "        def side(x, h):\n",
    "            # side output saliency map (before sigmoid)\n",
    "            x = getattr(self, f'side{h}')(x)\n",
    "            x = _upsample_like(x, sizes[1])\n",
    "            maps.append(x)\n",
    "\n",
    "        def fuse():\n",
    "            # fuse saliency probability maps\n",
    "            maps.reverse()\n",
    "            x = torch.cat(maps, 1)\n",
    "            x = getattr(self, 'outconv')(x)\n",
    "            maps.insert(0, x)\n",
    "            return [torch.sigmoid(x) for x in maps]\n",
    "\n",
    "        unet(x)\n",
    "        maps = fuse()\n",
    "        return maps\n",
    "\n",
    "    def _make_layers(self, cfgs):\n",
    "        self.height = int((len(cfgs) + 1) / 2)\n",
    "        self.add_module('downsample', nn.MaxPool2d(2, stride=2, ceil_mode=True))\n",
    "        for k, v in cfgs.items():\n",
    "            # build rsu block\n",
    "            self.add_module(k, RSU(v[0], *v[1]))\n",
    "            if v[2] > 0:\n",
    "                # build side layer\n",
    "                self.add_module(f'side{v[0][-1]}', nn.Conv2d(v[2], self.out_ch, 3, padding=1))\n",
    "        # build fuse layer\n",
    "        self.add_module('outconv', nn.Conv2d(int(self.height * self.out_ch), self.out_ch, 1))\n",
    "\n",
    "\n",
    "def U2NET_full():\n",
    "    full = {\n",
    "        # cfgs for building RSUs and sides\n",
    "        # {stage : [name, (height(L), in_ch, mid_ch, out_ch, dilated), side]}\n",
    "        'stage1': ['En_1', (7, 3, 32, 64), -1],\n",
    "        'stage2': ['En_2', (6, 64, 32, 128), -1],\n",
    "        'stage3': ['En_3', (5, 128, 64, 256), -1],\n",
    "        'stage4': ['En_4', (4, 256, 128, 512), -1],\n",
    "        'stage5': ['En_5', (4, 512, 256, 512, True), -1],\n",
    "        'stage6': ['En_6', (4, 512, 256, 512, True), 512],\n",
    "        'stage5d': ['De_5', (4, 1024, 256, 512, True), 512],\n",
    "        'stage4d': ['De_4', (4, 1024, 128, 256), 256],\n",
    "        'stage3d': ['De_3', (5, 512, 64, 128), 128],\n",
    "        'stage2d': ['De_2', (6, 256, 32, 64), 64],\n",
    "        'stage1d': ['De_1', (7, 128, 16, 64), 64],\n",
    "    }\n",
    "    return U2NET(cfgs=full, out_ch=3)\n",
    "\n",
    "\n",
    "def U2NET_lite():\n",
    "    lite = {\n",
    "        # cfgs for building RSUs and sides\n",
    "        # {stage : [name, (height(L), in_ch, mid_ch, out_ch, dilated), side]}\n",
    "        'stage1': ['En_1', (7, 3, 16, 64), -1],\n",
    "        'stage2': ['En_2', (6, 64, 16, 64), -1],\n",
    "        'stage3': ['En_3', (5, 64, 16, 64), -1],\n",
    "        'stage4': ['En_4', (4, 64, 16, 64), -1],\n",
    "        'stage5': ['En_5', (4, 64, 16, 64, True), -1],\n",
    "        'stage6': ['En_6', (4, 64, 16, 64, True), 64],\n",
    "        'stage5d': ['De_5', (4, 128, 16, 64, True), 64],\n",
    "        'stage4d': ['De_4', (4, 128, 16, 64), 64],\n",
    "        'stage3d': ['De_3', (5, 128, 16, 64), 64],\n",
    "        'stage2d': ['De_2', (6, 128, 16, 64), 64],\n",
    "        'stage1d': ['De_1', (7, 128, 16, 64), 64],\n",
    "    }\n",
    "    return U2NET(cfgs=lite, out_ch=3)"
   ]
  },
  {
   "cell_type": "markdown",
   "metadata": {},
   "source": [
    "## Training model"
   ]
  },
  {
   "cell_type": "code",
   "execution_count": null,
   "metadata": {},
   "outputs": [],
   "source": [
    "model = U2NET_lite()"
   ]
  },
  {
   "cell_type": "code",
   "execution_count": null,
   "metadata": {},
   "outputs": [],
   "source": [
    "optimizer = optim.Adam(model.parameters(), lr=0.005)"
   ]
  },
  {
   "cell_type": "code",
   "execution_count": null,
   "metadata": {},
   "outputs": [],
   "source": [
    "def train(model, train_ds, val_ds, optimizer, epochs_no=50, patience=5):\n",
    "    history = {\"train_loss\":[], \"val_loss\":[]}\n",
    "    cooldown = 0\n",
    "    steps_train = len(train_ds)/32\n",
    "    steps_val = len(val_ds)/32\n",
    "    device = torch.device('cuda') if torch.cuda.is_available() else torch.device('cpu')\n",
    "    model.to(device)\n",
    "    train_loader = torch.utils.data.DataLoader(\n",
    "        train_ds, batch_size=16, shuffle=True, num_workers=8)\n",
    "    val_loader = torch.utils.data.DataLoader(\n",
    "        val_ds, batch_size=16, shuffle=True, num_workers=8)\n",
    "    \n",
    "    for epoch in tqdm(range(epochs_no)):\n",
    "        model.train()\n",
    "        epoch_train_loss = 0\n",
    "        epoch_val_loss = 0\n",
    "        for img, target in train_loader:\n",
    "            img, target = img.to(device), target.to(device)\n",
    "            pred = model(img)[0]\n",
    "            loss = ssim_loss(target, pred, 5)\n",
    "            optimizer.zero_grad()\n",
    "            loss.backward()\n",
    "            optimizer.step()\n",
    "            epoch_train_loss += loss\n",
    "            \n",
    "        with torch.no_grad():\n",
    "            model.eval()\n",
    "            for img, target in val_loader:\n",
    "                img, target = img.to(device), target.to(device)\n",
    "                pred = model(img)[0]\n",
    "                epoch_val_loss += ssim_loss(target, pred, 5)\n",
    "                \n",
    "        epoch_train_loss /= steps_train\n",
    "        epoch_val_loss /= steps_val\n",
    "        history[\"train_loss\"].append(epoch_train_loss.cpu().detach().numpy())\n",
    "        history[\"val_loss\"].append(epoch_val_loss.cpu().detach().numpy())\n",
    "        \n",
    "        print(\"EPOCH: {}/{}\".format(epoch + 1, epochs_no))\n",
    "        print(\"Train loss: {:.6f}, Validation loss: {:.4f}\".format(epoch_train_loss, epoch_val_loss))\n",
    "        \n",
    "        if epoch != 0 and history[\"val_loss\"][epoch] > history[\"val_loss\"][epoch-1]:\n",
    "            cooldown += 1\n",
    "            if cooldown == patience:\n",
    "                break\n",
    "        else:\n",
    "            cooldown = 0\n",
    "            torch.save(model.state_dict(), 'model_weights.pth')\n",
    "    model.load_state_dict(torch.load('model_weights.pth'))\n",
    "    return model"
   ]
  },
  {
   "cell_type": "code",
   "execution_count": null,
   "metadata": {},
   "outputs": [],
   "source": [
    "model = train(model, train_ds, val_ds, optimizer)"
   ]
  },
  {
   "cell_type": "markdown",
   "metadata": {
    "id": "pVCAU-zoH2mV"
   },
   "source": [
    "## Generating Prediction File\n",
    "\n",
    "In this starter kit we will directly be submitting the blurred images. In case you would like to see a submission via baseline model."
   ]
  },
  {
   "cell_type": "code",
   "execution_count": 4,
   "metadata": {
    "executionInfo": {
     "elapsed": 732,
     "status": "ok",
     "timestamp": 1643972869565,
     "user": {
      "displayName": "Shubham Gupta",
      "photoUrl": "https://lh3.googleusercontent.com/a-/AOh14GhS5-iRa3vVUuZiX_Z7V-1UnZGucABACRmCr-oI5w=s64",
      "userId": "17522365767953126894"
     },
     "user_tz": -330
    },
    "id": "gA7x8V3SZpq-"
   },
   "outputs": [],
   "source": [
    "!mkdir original"
   ]
  },
  {
   "cell_type": "code",
   "execution_count": null,
   "metadata": {},
   "outputs": [],
   "source": [
    "test_ds = TestBlurDataset(test_images, get_test_transform())"
   ]
  },
  {
   "cell_type": "code",
   "execution_count": null,
   "metadata": {},
   "outputs": [],
   "source": [
    "test_loader = torch.utils.data.DataLoader(\n",
    "        test_ds, batch_size=1, shuffle=False, num_workers=8)"
   ]
  },
  {
   "cell_type": "code",
   "execution_count": null,
   "metadata": {},
   "outputs": [],
   "source": [
    "device = torch.device('cuda') if torch.cuda.is_available() else torch.device('cpu')\n",
    "model.to(device)\n",
    "model.eval()"
   ]
  },
  {
   "cell_type": "code",
   "execution_count": null,
   "metadata": {},
   "outputs": [],
   "source": [
    "solution_directory = \"original\"\n",
    "to_pil = T.ToPILImage()\n",
    "\n",
    "def save_result(img, name):\n",
    "    img = torch.squeeze(img)\n",
    "    img = to_pil(img)\n",
    "    img_path = os.path.join(solution_directory, name)\n",
    "    img.save(img_path)"
   ]
  },
  {
   "cell_type": "code",
   "execution_count": null,
   "metadata": {},
   "outputs": [],
   "source": [
    "for img, (name,) in tqdm(test_loader):\n",
    "    img = img.to(device)\n",
    "    res = model(img)[0]\n",
    "    save_result(res, name)"
   ]
  },
  {
   "cell_type": "markdown",
   "metadata": {
    "id": "zVH_sGk4AW86"
   },
   "source": [
    "\n",
    "# Submitting our Predictions\n",
    "\n",
    "Note : Please save the notebook before submitting it (Ctrl + S)\n"
   ]
  },
  {
   "cell_type": "code",
   "execution_count": 9,
   "metadata": {
    "colab": {
     "base_uri": "https://localhost:8080/",
     "height": 357,
     "referenced_widgets": [
      "527522928c794c8b81e9d6b7fba511e4",
      "1be9fa26665e46c195ba737eaad01f55"
     ]
    },
    "executionInfo": {
     "elapsed": 89431,
     "status": "ok",
     "timestamp": 1643972991703,
     "user": {
      "displayName": "Shubham Gupta",
      "photoUrl": "https://lh3.googleusercontent.com/a-/AOh14GhS5-iRa3vVUuZiX_Z7V-1UnZGucABACRmCr-oI5w=s64",
      "userId": "17522365767953126894"
     },
     "user_tz": -330
    },
    "id": "aSq4P4o69tp_",
    "outputId": "2bd957f2-3974-448a-95db-ef06f171c4f8"
   },
   "outputs": [
    {
     "name": "stdout",
     "output_type": "stream",
     "text": [
      "Using notebook: [Getting Started Notebook] Face De-Blur for submission...\n",
      "Removing existing files from submission directory...\n",
      "Scrubbing API keys from the notebook...\n",
      "Collecting notebook...\n"
     ]
    },
    {
     "data": {
      "application/vnd.jupyter.widget-view+json": {
       "model_id": "527522928c794c8b81e9d6b7fba511e4",
       "version_major": 2,
       "version_minor": 0
      },
      "text/plain": [
       "Output()"
      ]
     },
     "metadata": {},
     "output_type": "display_data"
    },
    {
     "data": {
      "text/html": [
       "<pre style=\"white-space:pre;overflow-x:auto;line-height:normal;font-family:Menlo,'DejaVu Sans Mono',consolas,'Courier New',monospace\"></pre>\n"
      ],
      "text/plain": []
     },
     "metadata": {},
     "output_type": "display_data"
    },
    {
     "data": {
      "text/html": [
       "<pre style=\"white-space:pre;overflow-x:auto;line-height:normal;font-family:Menlo,'DejaVu Sans Mono',consolas,'Courier New',monospace\">\n",
       "</pre>\n"
      ],
      "text/plain": [
       "\n"
      ]
     },
     "metadata": {},
     "output_type": "display_data"
    },
    {
     "data": {
      "text/html": [
       "<pre style=\"white-space:pre;overflow-x:auto;line-height:normal;font-family:Menlo,'DejaVu Sans Mono',consolas,'Courier New',monospace\">                                                   ╭─────────────────────────╮                                                   \n",
       "                                                   │ <span style=\"font-weight: bold\">Successfully submitted!</span> │                                                   \n",
       "                                                   ╰─────────────────────────╯                                                   \n",
       "</pre>\n"
      ],
      "text/plain": [
       "                                                   ╭─────────────────────────╮                                                   \n",
       "                                                   │ \u001b[1mSuccessfully submitted!\u001b[0m │                                                   \n",
       "                                                   ╰─────────────────────────╯                                                   \n"
      ]
     },
     "metadata": {},
     "output_type": "display_data"
    },
    {
     "data": {
      "text/html": [
       "<pre style=\"white-space:pre;overflow-x:auto;line-height:normal;font-family:Menlo,'DejaVu Sans Mono',consolas,'Courier New',monospace\"><span style=\"font-style: italic\">                                                         Important links                                                         </span>\n",
       "┌──────────────────┬────────────────────────────────────────────────────────────────────────────────────────────────────────────┐\n",
       "│  This submission │ https://www.aicrowd.com/challenges/ai-blitz-xiii/problems/face-de-blurring/submissions/172686              │\n",
       "│                  │                                                                                                            │\n",
       "│  All submissions │ https://www.aicrowd.com/challenges/ai-blitz-xiii/problems/face-de-blurring/submissions?my_submissions=true │\n",
       "│                  │                                                                                                            │\n",
       "│      Leaderboard │ https://www.aicrowd.com/challenges/ai-blitz-xiii/problems/face-de-blurring/leaderboards                    │\n",
       "│                  │                                                                                                            │\n",
       "│ Discussion forum │ https://discourse.aicrowd.com/c/ai-blitz-xiii                                                              │\n",
       "│                  │                                                                                                            │\n",
       "│   Challenge page │ https://www.aicrowd.com/challenges/ai-blitz-xiii/problems/face-de-blurring                                 │\n",
       "└──────────────────┴────────────────────────────────────────────────────────────────────────────────────────────────────────────┘\n",
       "</pre>\n"
      ],
      "text/plain": [
       "\u001b[3m                                                         Important links                                                         \u001b[0m\n",
       "┌──────────────────┬────────────────────────────────────────────────────────────────────────────────────────────────────────────┐\n",
       "│  This submission │ https://www.aicrowd.com/challenges/ai-blitz-xiii/problems/face-de-blurring/submissions/172686              │\n",
       "│                  │                                                                                                            │\n",
       "│  All submissions │ https://www.aicrowd.com/challenges/ai-blitz-xiii/problems/face-de-blurring/submissions?my_submissions=true │\n",
       "│                  │                                                                                                            │\n",
       "│      Leaderboard │ https://www.aicrowd.com/challenges/ai-blitz-xiii/problems/face-de-blurring/leaderboards                    │\n",
       "│                  │                                                                                                            │\n",
       "│ Discussion forum │ https://discourse.aicrowd.com/c/ai-blitz-xiii                                                              │\n",
       "│                  │                                                                                                            │\n",
       "│   Challenge page │ https://www.aicrowd.com/challenges/ai-blitz-xiii/problems/face-de-blurring                                 │\n",
       "└──────────────────┴────────────────────────────────────────────────────────────────────────────────────────────────────────────┘\n"
      ]
     },
     "metadata": {},
     "output_type": "display_data"
    }
   ],
   "source": [
    "%aicrowd notebook submit -c face-de-blurring -a original   --no-verify"
   ]
  },
  {
   "cell_type": "code",
   "execution_count": null,
   "metadata": {
    "id": "5cOmTqgxahSA"
   },
   "outputs": [],
   "source": []
  }
 ],
 "metadata": {
  "colab": {
   "collapsed_sections": [],
   "name": "[Getting Started Notebook] Face De-Blur",
   "provenance": [
    {
     "file_id": "1qbdr0HCKwHKCGZJmSZ8-sPTWwEK8_e4v",
     "timestamp": 1643723472467
    },
    {
     "file_id": "https://gist.github.com/aicrowd-bot/dd0278c5de68432f600e8d1f740b8380",
     "timestamp": 1643705901477
    },
    {
     "file_id": "11tJTtEXdBON8DdtGmYT46pqIKMabf_qA",
     "timestamp": 1640260735996
    }
   ]
  },
  "kernelspec": {
   "display_name": "ai_blitz_masks",
   "language": "python",
   "name": "ai_blitz_masks"
  },
  "language_info": {
   "codemirror_mode": {
    "name": "ipython",
    "version": 3
   },
   "file_extension": ".py",
   "mimetype": "text/x-python",
   "name": "python",
   "nbconvert_exporter": "python",
   "pygments_lexer": "ipython3",
   "version": "3.8.12"
  },
  "widgets": {
   "application/vnd.jupyter.widget-state+json": {
    "0b13e7e727c04e518fe26007a356236b": {
     "model_module": "@jupyter-widgets/base",
     "model_module_version": "1.2.0",
     "model_name": "LayoutModel",
     "state": {
      "_model_module": "@jupyter-widgets/base",
      "_model_module_version": "1.2.0",
      "_model_name": "LayoutModel",
      "_view_count": null,
      "_view_module": "@jupyter-widgets/base",
      "_view_module_version": "1.2.0",
      "_view_name": "LayoutView",
      "align_content": null,
      "align_items": null,
      "align_self": null,
      "border": null,
      "bottom": null,
      "display": null,
      "flex": null,
      "flex_flow": null,
      "grid_area": null,
      "grid_auto_columns": null,
      "grid_auto_flow": null,
      "grid_auto_rows": null,
      "grid_column": null,
      "grid_gap": null,
      "grid_row": null,
      "grid_template_areas": null,
      "grid_template_columns": null,
      "grid_template_rows": null,
      "height": null,
      "justify_content": null,
      "justify_items": null,
      "left": null,
      "margin": null,
      "max_height": null,
      "max_width": null,
      "min_height": null,
      "min_width": null,
      "object_fit": null,
      "object_position": null,
      "order": null,
      "overflow": null,
      "overflow_x": null,
      "overflow_y": null,
      "padding": null,
      "right": null,
      "top": null,
      "visibility": null,
      "width": null
     }
    },
    "0c24da5a59a84b1bb44d672f6b9c8de7": {
     "model_module": "@jupyter-widgets/controls",
     "model_module_version": "1.5.0",
     "model_name": "HTMLModel",
     "state": {
      "_dom_classes": [],
      "_model_module": "@jupyter-widgets/controls",
      "_model_module_version": "1.5.0",
      "_model_name": "HTMLModel",
      "_view_count": null,
      "_view_module": "@jupyter-widgets/controls",
      "_view_module_version": "1.5.0",
      "_view_name": "HTMLView",
      "description": "",
      "description_tooltip": null,
      "layout": "IPY_MODEL_73b70ad23de746b491ada43ddc5cdfee",
      "placeholder": "​",
      "style": "IPY_MODEL_d7738272e0f64d00b750a16564c106a0",
      "value": "test.zip: 100%"
     }
    },
    "10158ee131b94125a6a83912bdc8cdf7": {
     "model_module": "@jupyter-widgets/controls",
     "model_module_version": "1.5.0",
     "model_name": "FloatProgressModel",
     "state": {
      "_dom_classes": [],
      "_model_module": "@jupyter-widgets/controls",
      "_model_module_version": "1.5.0",
      "_model_name": "FloatProgressModel",
      "_view_count": null,
      "_view_module": "@jupyter-widgets/controls",
      "_view_module_version": "1.5.0",
      "_view_name": "ProgressView",
      "bar_style": "success",
      "description": "",
      "description_tooltip": null,
      "layout": "IPY_MODEL_930bfd98b4274dffa2a49d977cdeb69d",
      "max": 224270522,
      "min": 0,
      "orientation": "horizontal",
      "style": "IPY_MODEL_4f50c2688fa147adad45ebf2dcefa558",
      "value": 224270522
     }
    },
    "1be9fa26665e46c195ba737eaad01f55": {
     "model_module": "@jupyter-widgets/base",
     "model_module_version": "1.2.0",
     "model_name": "LayoutModel",
     "state": {
      "_model_module": "@jupyter-widgets/base",
      "_model_module_version": "1.2.0",
      "_model_name": "LayoutModel",
      "_view_count": null,
      "_view_module": "@jupyter-widgets/base",
      "_view_module_version": "1.2.0",
      "_view_name": "LayoutView",
      "align_content": null,
      "align_items": null,
      "align_self": null,
      "border": null,
      "bottom": null,
      "display": null,
      "flex": null,
      "flex_flow": null,
      "grid_area": null,
      "grid_auto_columns": null,
      "grid_auto_flow": null,
      "grid_auto_rows": null,
      "grid_column": null,
      "grid_gap": null,
      "grid_row": null,
      "grid_template_areas": null,
      "grid_template_columns": null,
      "grid_template_rows": null,
      "height": null,
      "justify_content": null,
      "justify_items": null,
      "left": null,
      "margin": null,
      "max_height": null,
      "max_width": null,
      "min_height": null,
      "min_width": null,
      "object_fit": null,
      "object_position": null,
      "order": null,
      "overflow": null,
      "overflow_x": null,
      "overflow_y": null,
      "padding": null,
      "right": null,
      "top": null,
      "visibility": null,
      "width": null
     }
    },
    "21347a306000430983dfa1e3969231ac": {
     "model_module": "@jupyter-widgets/base",
     "model_module_version": "1.2.0",
     "model_name": "LayoutModel",
     "state": {
      "_model_module": "@jupyter-widgets/base",
      "_model_module_version": "1.2.0",
      "_model_name": "LayoutModel",
      "_view_count": null,
      "_view_module": "@jupyter-widgets/base",
      "_view_module_version": "1.2.0",
      "_view_name": "LayoutView",
      "align_content": null,
      "align_items": null,
      "align_self": null,
      "border": null,
      "bottom": null,
      "display": null,
      "flex": null,
      "flex_flow": null,
      "grid_area": null,
      "grid_auto_columns": null,
      "grid_auto_flow": null,
      "grid_auto_rows": null,
      "grid_column": null,
      "grid_gap": null,
      "grid_row": null,
      "grid_template_areas": null,
      "grid_template_columns": null,
      "grid_template_rows": null,
      "height": null,
      "justify_content": null,
      "justify_items": null,
      "left": null,
      "margin": null,
      "max_height": null,
      "max_width": null,
      "min_height": null,
      "min_width": null,
      "object_fit": null,
      "object_position": null,
      "order": null,
      "overflow": null,
      "overflow_x": null,
      "overflow_y": null,
      "padding": null,
      "right": null,
      "top": null,
      "visibility": null,
      "width": null
     }
    },
    "3660707b15824524b0ceec551e993887": {
     "model_module": "@jupyter-widgets/controls",
     "model_module_version": "1.5.0",
     "model_name": "HTMLModel",
     "state": {
      "_dom_classes": [],
      "_model_module": "@jupyter-widgets/controls",
      "_model_module_version": "1.5.0",
      "_model_name": "HTMLModel",
      "_view_count": null,
      "_view_module": "@jupyter-widgets/controls",
      "_view_module_version": "1.5.0",
      "_view_name": "HTMLView",
      "description": "",
      "description_tooltip": null,
      "layout": "IPY_MODEL_51cd5cfa7c724ef299e17b4d9294f70e",
      "placeholder": "​",
      "style": "IPY_MODEL_c663f2ba8faa404c84e7713fe18b0ee7",
      "value": " 89.2M/89.2M [00:03&lt;00:00, 23.8MB/s]"
     }
    },
    "3d0d583f85c44614b546d7d9b69a43d0": {
     "model_module": "@jupyter-widgets/controls",
     "model_module_version": "1.5.0",
     "model_name": "HTMLModel",
     "state": {
      "_dom_classes": [],
      "_model_module": "@jupyter-widgets/controls",
      "_model_module_version": "1.5.0",
      "_model_name": "HTMLModel",
      "_view_count": null,
      "_view_module": "@jupyter-widgets/controls",
      "_view_module_version": "1.5.0",
      "_view_name": "HTMLView",
      "description": "",
      "description_tooltip": null,
      "layout": "IPY_MODEL_79d06d230d4340dcb13ed27770dd0d43",
      "placeholder": "​",
      "style": "IPY_MODEL_f85235a59f00443787c599e83a2c3cd1",
      "value": " 224M/224M [00:24&lt;00:00, 9.44MB/s]"
     }
    },
    "3f17b80914524b499fd6b3fafa51e697": {
     "model_module": "@jupyter-widgets/base",
     "model_module_version": "1.2.0",
     "model_name": "LayoutModel",
     "state": {
      "_model_module": "@jupyter-widgets/base",
      "_model_module_version": "1.2.0",
      "_model_name": "LayoutModel",
      "_view_count": null,
      "_view_module": "@jupyter-widgets/base",
      "_view_module_version": "1.2.0",
      "_view_name": "LayoutView",
      "align_content": null,
      "align_items": null,
      "align_self": null,
      "border": null,
      "bottom": null,
      "display": null,
      "flex": null,
      "flex_flow": null,
      "grid_area": null,
      "grid_auto_columns": null,
      "grid_auto_flow": null,
      "grid_auto_rows": null,
      "grid_column": null,
      "grid_gap": null,
      "grid_row": null,
      "grid_template_areas": null,
      "grid_template_columns": null,
      "grid_template_rows": null,
      "height": null,
      "justify_content": null,
      "justify_items": null,
      "left": null,
      "margin": null,
      "max_height": null,
      "max_width": null,
      "min_height": null,
      "min_width": null,
      "object_fit": null,
      "object_position": null,
      "order": null,
      "overflow": null,
      "overflow_x": null,
      "overflow_y": null,
      "padding": null,
      "right": null,
      "top": null,
      "visibility": null,
      "width": null
     }
    },
    "495facb619804687b2f1e8898593810a": {
     "model_module": "@jupyter-widgets/controls",
     "model_module_version": "1.5.0",
     "model_name": "FloatProgressModel",
     "state": {
      "_dom_classes": [],
      "_model_module": "@jupyter-widgets/controls",
      "_model_module_version": "1.5.0",
      "_model_name": "FloatProgressModel",
      "_view_count": null,
      "_view_module": "@jupyter-widgets/controls",
      "_view_module_version": "1.5.0",
      "_view_name": "ProgressView",
      "bar_style": "success",
      "description": "",
      "description_tooltip": null,
      "layout": "IPY_MODEL_fdbdea02041341bea56fd63f590a47cf",
      "max": 42147637,
      "min": 0,
      "orientation": "horizontal",
      "style": "IPY_MODEL_e948611071d045b8823e21e76d4813b9",
      "value": 42147637
     }
    },
    "4f50c2688fa147adad45ebf2dcefa558": {
     "model_module": "@jupyter-widgets/controls",
     "model_module_version": "1.5.0",
     "model_name": "ProgressStyleModel",
     "state": {
      "_model_module": "@jupyter-widgets/controls",
      "_model_module_version": "1.5.0",
      "_model_name": "ProgressStyleModel",
      "_view_count": null,
      "_view_module": "@jupyter-widgets/base",
      "_view_module_version": "1.2.0",
      "_view_name": "StyleView",
      "bar_color": null,
      "description_width": ""
     }
    },
    "51cd5cfa7c724ef299e17b4d9294f70e": {
     "model_module": "@jupyter-widgets/base",
     "model_module_version": "1.2.0",
     "model_name": "LayoutModel",
     "state": {
      "_model_module": "@jupyter-widgets/base",
      "_model_module_version": "1.2.0",
      "_model_name": "LayoutModel",
      "_view_count": null,
      "_view_module": "@jupyter-widgets/base",
      "_view_module_version": "1.2.0",
      "_view_name": "LayoutView",
      "align_content": null,
      "align_items": null,
      "align_self": null,
      "border": null,
      "bottom": null,
      "display": null,
      "flex": null,
      "flex_flow": null,
      "grid_area": null,
      "grid_auto_columns": null,
      "grid_auto_flow": null,
      "grid_auto_rows": null,
      "grid_column": null,
      "grid_gap": null,
      "grid_row": null,
      "grid_template_areas": null,
      "grid_template_columns": null,
      "grid_template_rows": null,
      "height": null,
      "justify_content": null,
      "justify_items": null,
      "left": null,
      "margin": null,
      "max_height": null,
      "max_width": null,
      "min_height": null,
      "min_width": null,
      "object_fit": null,
      "object_position": null,
      "order": null,
      "overflow": null,
      "overflow_x": null,
      "overflow_y": null,
      "padding": null,
      "right": null,
      "top": null,
      "visibility": null,
      "width": null
     }
    },
    "527522928c794c8b81e9d6b7fba511e4": {
     "model_module": "@jupyter-widgets/output",
     "model_module_version": "1.0.0",
     "model_name": "OutputModel",
     "state": {
      "_dom_classes": [],
      "_model_module": "@jupyter-widgets/output",
      "_model_module_version": "1.0.0",
      "_model_name": "OutputModel",
      "_view_count": null,
      "_view_module": "@jupyter-widgets/output",
      "_view_module_version": "1.0.0",
      "_view_name": "OutputView",
      "layout": "IPY_MODEL_1be9fa26665e46c195ba737eaad01f55",
      "msg_id": "",
      "outputs": [
       {
        "data": {
         "text/html": "<pre style=\"white-space:pre;overflow-x:auto;line-height:normal;font-family:Menlo,'DejaVu Sans Mono',consolas,'Courier New',monospace\"><span style=\"color: #000080; text-decoration-color: #000080; font-weight: bold\">submission.zip</span> <span style=\"color: #729c1f; text-decoration-color: #729c1f\">━━━━━━━━━━━━━━━━━━━━━━━━━━━━━━━━━</span> <span style=\"color: #800080; text-decoration-color: #800080\">100.0%</span> • <span style=\"color: #008000; text-decoration-color: #008000\">42.0/42.0 MB</span> • <span style=\"color: #800000; text-decoration-color: #800000\">547.5 kB/s</span> • <span style=\"color: #008080; text-decoration-color: #008080\">0:00:00</span>\n</pre>\n",
         "text/plain": "\u001b[1;34msubmission.zip\u001b[0m \u001b[38;2;114;156;31m━━━━━━━━━━━━━━━━━━━━━━━━━━━━━━━━━\u001b[0m \u001b[35m100.0%\u001b[0m • \u001b[32m42.0/42.0 MB\u001b[0m • \u001b[31m547.5 kB/s\u001b[0m • \u001b[36m0:00:00\u001b[0m\n"
        },
        "metadata": {},
        "output_type": "display_data"
       }
      ]
     }
    },
    "61d4e56c35664ea0a0e445ee7c13753e": {
     "model_module": "@jupyter-widgets/controls",
     "model_module_version": "1.5.0",
     "model_name": "FloatProgressModel",
     "state": {
      "_dom_classes": [],
      "_model_module": "@jupyter-widgets/controls",
      "_model_module_version": "1.5.0",
      "_model_name": "FloatProgressModel",
      "_view_count": null,
      "_view_module": "@jupyter-widgets/controls",
      "_view_module_version": "1.5.0",
      "_view_name": "ProgressView",
      "bar_style": "success",
      "description": "",
      "description_tooltip": null,
      "layout": "IPY_MODEL_b449ef828871454cb20449ad354cb5b6",
      "max": 89236577,
      "min": 0,
      "orientation": "horizontal",
      "style": "IPY_MODEL_ef825191ff5546298cd3718b9d98812c",
      "value": 89236577
     }
    },
    "73b70ad23de746b491ada43ddc5cdfee": {
     "model_module": "@jupyter-widgets/base",
     "model_module_version": "1.2.0",
     "model_name": "LayoutModel",
     "state": {
      "_model_module": "@jupyter-widgets/base",
      "_model_module_version": "1.2.0",
      "_model_name": "LayoutModel",
      "_view_count": null,
      "_view_module": "@jupyter-widgets/base",
      "_view_module_version": "1.2.0",
      "_view_name": "LayoutView",
      "align_content": null,
      "align_items": null,
      "align_self": null,
      "border": null,
      "bottom": null,
      "display": null,
      "flex": null,
      "flex_flow": null,
      "grid_area": null,
      "grid_auto_columns": null,
      "grid_auto_flow": null,
      "grid_auto_rows": null,
      "grid_column": null,
      "grid_gap": null,
      "grid_row": null,
      "grid_template_areas": null,
      "grid_template_columns": null,
      "grid_template_rows": null,
      "height": null,
      "justify_content": null,
      "justify_items": null,
      "left": null,
      "margin": null,
      "max_height": null,
      "max_width": null,
      "min_height": null,
      "min_width": null,
      "object_fit": null,
      "object_position": null,
      "order": null,
      "overflow": null,
      "overflow_x": null,
      "overflow_y": null,
      "padding": null,
      "right": null,
      "top": null,
      "visibility": null,
      "width": null
     }
    },
    "760319e39e8047c193af2217983a545f": {
     "model_module": "@jupyter-widgets/controls",
     "model_module_version": "1.5.0",
     "model_name": "HBoxModel",
     "state": {
      "_dom_classes": [],
      "_model_module": "@jupyter-widgets/controls",
      "_model_module_version": "1.5.0",
      "_model_name": "HBoxModel",
      "_view_count": null,
      "_view_module": "@jupyter-widgets/controls",
      "_view_module_version": "1.5.0",
      "_view_name": "HBoxView",
      "box_style": "",
      "children": [
       "IPY_MODEL_87a7969bd950471683634988232d28b4",
       "IPY_MODEL_61d4e56c35664ea0a0e445ee7c13753e",
       "IPY_MODEL_3660707b15824524b0ceec551e993887"
      ],
      "layout": "IPY_MODEL_21347a306000430983dfa1e3969231ac"
     }
    },
    "79d06d230d4340dcb13ed27770dd0d43": {
     "model_module": "@jupyter-widgets/base",
     "model_module_version": "1.2.0",
     "model_name": "LayoutModel",
     "state": {
      "_model_module": "@jupyter-widgets/base",
      "_model_module_version": "1.2.0",
      "_model_name": "LayoutModel",
      "_view_count": null,
      "_view_module": "@jupyter-widgets/base",
      "_view_module_version": "1.2.0",
      "_view_name": "LayoutView",
      "align_content": null,
      "align_items": null,
      "align_self": null,
      "border": null,
      "bottom": null,
      "display": null,
      "flex": null,
      "flex_flow": null,
      "grid_area": null,
      "grid_auto_columns": null,
      "grid_auto_flow": null,
      "grid_auto_rows": null,
      "grid_column": null,
      "grid_gap": null,
      "grid_row": null,
      "grid_template_areas": null,
      "grid_template_columns": null,
      "grid_template_rows": null,
      "height": null,
      "justify_content": null,
      "justify_items": null,
      "left": null,
      "margin": null,
      "max_height": null,
      "max_width": null,
      "min_height": null,
      "min_width": null,
      "object_fit": null,
      "object_position": null,
      "order": null,
      "overflow": null,
      "overflow_x": null,
      "overflow_y": null,
      "padding": null,
      "right": null,
      "top": null,
      "visibility": null,
      "width": null
     }
    },
    "7cb0cfc18de24bddb3efa90f188ad9b0": {
     "model_module": "@jupyter-widgets/controls",
     "model_module_version": "1.5.0",
     "model_name": "HTMLModel",
     "state": {
      "_dom_classes": [],
      "_model_module": "@jupyter-widgets/controls",
      "_model_module_version": "1.5.0",
      "_model_name": "HTMLModel",
      "_view_count": null,
      "_view_module": "@jupyter-widgets/controls",
      "_view_module_version": "1.5.0",
      "_view_name": "HTMLView",
      "description": "",
      "description_tooltip": null,
      "layout": "IPY_MODEL_8561a388eb5d43208d8113864868cc49",
      "placeholder": "​",
      "style": "IPY_MODEL_f3380f75b2524f4888837719aae5597c",
      "value": " 42.1M/42.1M [00:05&lt;00:00, 7.81MB/s]"
     }
    },
    "8561a388eb5d43208d8113864868cc49": {
     "model_module": "@jupyter-widgets/base",
     "model_module_version": "1.2.0",
     "model_name": "LayoutModel",
     "state": {
      "_model_module": "@jupyter-widgets/base",
      "_model_module_version": "1.2.0",
      "_model_name": "LayoutModel",
      "_view_count": null,
      "_view_module": "@jupyter-widgets/base",
      "_view_module_version": "1.2.0",
      "_view_name": "LayoutView",
      "align_content": null,
      "align_items": null,
      "align_self": null,
      "border": null,
      "bottom": null,
      "display": null,
      "flex": null,
      "flex_flow": null,
      "grid_area": null,
      "grid_auto_columns": null,
      "grid_auto_flow": null,
      "grid_auto_rows": null,
      "grid_column": null,
      "grid_gap": null,
      "grid_row": null,
      "grid_template_areas": null,
      "grid_template_columns": null,
      "grid_template_rows": null,
      "height": null,
      "justify_content": null,
      "justify_items": null,
      "left": null,
      "margin": null,
      "max_height": null,
      "max_width": null,
      "min_height": null,
      "min_width": null,
      "object_fit": null,
      "object_position": null,
      "order": null,
      "overflow": null,
      "overflow_x": null,
      "overflow_y": null,
      "padding": null,
      "right": null,
      "top": null,
      "visibility": null,
      "width": null
     }
    },
    "87a7969bd950471683634988232d28b4": {
     "model_module": "@jupyter-widgets/controls",
     "model_module_version": "1.5.0",
     "model_name": "HTMLModel",
     "state": {
      "_dom_classes": [],
      "_model_module": "@jupyter-widgets/controls",
      "_model_module_version": "1.5.0",
      "_model_name": "HTMLModel",
      "_view_count": null,
      "_view_module": "@jupyter-widgets/controls",
      "_view_module_version": "1.5.0",
      "_view_name": "HTMLView",
      "description": "",
      "description_tooltip": null,
      "layout": "IPY_MODEL_e099cd6b8a764daaa93c8de8ddb569ff",
      "placeholder": "​",
      "style": "IPY_MODEL_92945fe60ce24cc7ba9b89f2051c9759",
      "value": "val.zip: 100%"
     }
    },
    "92945fe60ce24cc7ba9b89f2051c9759": {
     "model_module": "@jupyter-widgets/controls",
     "model_module_version": "1.5.0",
     "model_name": "DescriptionStyleModel",
     "state": {
      "_model_module": "@jupyter-widgets/controls",
      "_model_module_version": "1.5.0",
      "_model_name": "DescriptionStyleModel",
      "_view_count": null,
      "_view_module": "@jupyter-widgets/base",
      "_view_module_version": "1.2.0",
      "_view_name": "StyleView",
      "description_width": ""
     }
    },
    "930bfd98b4274dffa2a49d977cdeb69d": {
     "model_module": "@jupyter-widgets/base",
     "model_module_version": "1.2.0",
     "model_name": "LayoutModel",
     "state": {
      "_model_module": "@jupyter-widgets/base",
      "_model_module_version": "1.2.0",
      "_model_name": "LayoutModel",
      "_view_count": null,
      "_view_module": "@jupyter-widgets/base",
      "_view_module_version": "1.2.0",
      "_view_name": "LayoutView",
      "align_content": null,
      "align_items": null,
      "align_self": null,
      "border": null,
      "bottom": null,
      "display": null,
      "flex": null,
      "flex_flow": null,
      "grid_area": null,
      "grid_auto_columns": null,
      "grid_auto_flow": null,
      "grid_auto_rows": null,
      "grid_column": null,
      "grid_gap": null,
      "grid_row": null,
      "grid_template_areas": null,
      "grid_template_columns": null,
      "grid_template_rows": null,
      "height": null,
      "justify_content": null,
      "justify_items": null,
      "left": null,
      "margin": null,
      "max_height": null,
      "max_width": null,
      "min_height": null,
      "min_width": null,
      "object_fit": null,
      "object_position": null,
      "order": null,
      "overflow": null,
      "overflow_x": null,
      "overflow_y": null,
      "padding": null,
      "right": null,
      "top": null,
      "visibility": null,
      "width": null
     }
    },
    "9387f65520ca44918fbdd6236d906c83": {
     "model_module": "@jupyter-widgets/base",
     "model_module_version": "1.2.0",
     "model_name": "LayoutModel",
     "state": {
      "_model_module": "@jupyter-widgets/base",
      "_model_module_version": "1.2.0",
      "_model_name": "LayoutModel",
      "_view_count": null,
      "_view_module": "@jupyter-widgets/base",
      "_view_module_version": "1.2.0",
      "_view_name": "LayoutView",
      "align_content": null,
      "align_items": null,
      "align_self": null,
      "border": null,
      "bottom": null,
      "display": null,
      "flex": null,
      "flex_flow": null,
      "grid_area": null,
      "grid_auto_columns": null,
      "grid_auto_flow": null,
      "grid_auto_rows": null,
      "grid_column": null,
      "grid_gap": null,
      "grid_row": null,
      "grid_template_areas": null,
      "grid_template_columns": null,
      "grid_template_rows": null,
      "height": null,
      "justify_content": null,
      "justify_items": null,
      "left": null,
      "margin": null,
      "max_height": null,
      "max_width": null,
      "min_height": null,
      "min_width": null,
      "object_fit": null,
      "object_position": null,
      "order": null,
      "overflow": null,
      "overflow_x": null,
      "overflow_y": null,
      "padding": null,
      "right": null,
      "top": null,
      "visibility": null,
      "width": null
     }
    },
    "b37f1bda96974e53967cd9dbeea232cb": {
     "model_module": "@jupyter-widgets/controls",
     "model_module_version": "1.5.0",
     "model_name": "HBoxModel",
     "state": {
      "_dom_classes": [],
      "_model_module": "@jupyter-widgets/controls",
      "_model_module_version": "1.5.0",
      "_model_name": "HBoxModel",
      "_view_count": null,
      "_view_module": "@jupyter-widgets/controls",
      "_view_module_version": "1.5.0",
      "_view_name": "HBoxView",
      "box_style": "",
      "children": [
       "IPY_MODEL_0c24da5a59a84b1bb44d672f6b9c8de7",
       "IPY_MODEL_495facb619804687b2f1e8898593810a",
       "IPY_MODEL_7cb0cfc18de24bddb3efa90f188ad9b0"
      ],
      "layout": "IPY_MODEL_0b13e7e727c04e518fe26007a356236b"
     }
    },
    "b449ef828871454cb20449ad354cb5b6": {
     "model_module": "@jupyter-widgets/base",
     "model_module_version": "1.2.0",
     "model_name": "LayoutModel",
     "state": {
      "_model_module": "@jupyter-widgets/base",
      "_model_module_version": "1.2.0",
      "_model_name": "LayoutModel",
      "_view_count": null,
      "_view_module": "@jupyter-widgets/base",
      "_view_module_version": "1.2.0",
      "_view_name": "LayoutView",
      "align_content": null,
      "align_items": null,
      "align_self": null,
      "border": null,
      "bottom": null,
      "display": null,
      "flex": null,
      "flex_flow": null,
      "grid_area": null,
      "grid_auto_columns": null,
      "grid_auto_flow": null,
      "grid_auto_rows": null,
      "grid_column": null,
      "grid_gap": null,
      "grid_row": null,
      "grid_template_areas": null,
      "grid_template_columns": null,
      "grid_template_rows": null,
      "height": null,
      "justify_content": null,
      "justify_items": null,
      "left": null,
      "margin": null,
      "max_height": null,
      "max_width": null,
      "min_height": null,
      "min_width": null,
      "object_fit": null,
      "object_position": null,
      "order": null,
      "overflow": null,
      "overflow_x": null,
      "overflow_y": null,
      "padding": null,
      "right": null,
      "top": null,
      "visibility": null,
      "width": null
     }
    },
    "c663f2ba8faa404c84e7713fe18b0ee7": {
     "model_module": "@jupyter-widgets/controls",
     "model_module_version": "1.5.0",
     "model_name": "DescriptionStyleModel",
     "state": {
      "_model_module": "@jupyter-widgets/controls",
      "_model_module_version": "1.5.0",
      "_model_name": "DescriptionStyleModel",
      "_view_count": null,
      "_view_module": "@jupyter-widgets/base",
      "_view_module_version": "1.2.0",
      "_view_name": "StyleView",
      "description_width": ""
     }
    },
    "d132f82435374d1393afcbd055058adb": {
     "model_module": "@jupyter-widgets/controls",
     "model_module_version": "1.5.0",
     "model_name": "DescriptionStyleModel",
     "state": {
      "_model_module": "@jupyter-widgets/controls",
      "_model_module_version": "1.5.0",
      "_model_name": "DescriptionStyleModel",
      "_view_count": null,
      "_view_module": "@jupyter-widgets/base",
      "_view_module_version": "1.2.0",
      "_view_name": "StyleView",
      "description_width": ""
     }
    },
    "d7738272e0f64d00b750a16564c106a0": {
     "model_module": "@jupyter-widgets/controls",
     "model_module_version": "1.5.0",
     "model_name": "DescriptionStyleModel",
     "state": {
      "_model_module": "@jupyter-widgets/controls",
      "_model_module_version": "1.5.0",
      "_model_name": "DescriptionStyleModel",
      "_view_count": null,
      "_view_module": "@jupyter-widgets/base",
      "_view_module_version": "1.2.0",
      "_view_name": "StyleView",
      "description_width": ""
     }
    },
    "d856e04f48984d0a8ef1eaf4dfeb40fe": {
     "model_module": "@jupyter-widgets/controls",
     "model_module_version": "1.5.0",
     "model_name": "HTMLModel",
     "state": {
      "_dom_classes": [],
      "_model_module": "@jupyter-widgets/controls",
      "_model_module_version": "1.5.0",
      "_model_name": "HTMLModel",
      "_view_count": null,
      "_view_module": "@jupyter-widgets/controls",
      "_view_module_version": "1.5.0",
      "_view_name": "HTMLView",
      "description": "",
      "description_tooltip": null,
      "layout": "IPY_MODEL_9387f65520ca44918fbdd6236d906c83",
      "placeholder": "​",
      "style": "IPY_MODEL_d132f82435374d1393afcbd055058adb",
      "value": "train.zip: 100%"
     }
    },
    "dd24d4557b5547448260f528afa97556": {
     "model_module": "@jupyter-widgets/controls",
     "model_module_version": "1.5.0",
     "model_name": "HBoxModel",
     "state": {
      "_dom_classes": [],
      "_model_module": "@jupyter-widgets/controls",
      "_model_module_version": "1.5.0",
      "_model_name": "HBoxModel",
      "_view_count": null,
      "_view_module": "@jupyter-widgets/controls",
      "_view_module_version": "1.5.0",
      "_view_name": "HBoxView",
      "box_style": "",
      "children": [
       "IPY_MODEL_d856e04f48984d0a8ef1eaf4dfeb40fe",
       "IPY_MODEL_10158ee131b94125a6a83912bdc8cdf7",
       "IPY_MODEL_3d0d583f85c44614b546d7d9b69a43d0"
      ],
      "layout": "IPY_MODEL_3f17b80914524b499fd6b3fafa51e697"
     }
    },
    "e099cd6b8a764daaa93c8de8ddb569ff": {
     "model_module": "@jupyter-widgets/base",
     "model_module_version": "1.2.0",
     "model_name": "LayoutModel",
     "state": {
      "_model_module": "@jupyter-widgets/base",
      "_model_module_version": "1.2.0",
      "_model_name": "LayoutModel",
      "_view_count": null,
      "_view_module": "@jupyter-widgets/base",
      "_view_module_version": "1.2.0",
      "_view_name": "LayoutView",
      "align_content": null,
      "align_items": null,
      "align_self": null,
      "border": null,
      "bottom": null,
      "display": null,
      "flex": null,
      "flex_flow": null,
      "grid_area": null,
      "grid_auto_columns": null,
      "grid_auto_flow": null,
      "grid_auto_rows": null,
      "grid_column": null,
      "grid_gap": null,
      "grid_row": null,
      "grid_template_areas": null,
      "grid_template_columns": null,
      "grid_template_rows": null,
      "height": null,
      "justify_content": null,
      "justify_items": null,
      "left": null,
      "margin": null,
      "max_height": null,
      "max_width": null,
      "min_height": null,
      "min_width": null,
      "object_fit": null,
      "object_position": null,
      "order": null,
      "overflow": null,
      "overflow_x": null,
      "overflow_y": null,
      "padding": null,
      "right": null,
      "top": null,
      "visibility": null,
      "width": null
     }
    },
    "e948611071d045b8823e21e76d4813b9": {
     "model_module": "@jupyter-widgets/controls",
     "model_module_version": "1.5.0",
     "model_name": "ProgressStyleModel",
     "state": {
      "_model_module": "@jupyter-widgets/controls",
      "_model_module_version": "1.5.0",
      "_model_name": "ProgressStyleModel",
      "_view_count": null,
      "_view_module": "@jupyter-widgets/base",
      "_view_module_version": "1.2.0",
      "_view_name": "StyleView",
      "bar_color": null,
      "description_width": ""
     }
    },
    "ef825191ff5546298cd3718b9d98812c": {
     "model_module": "@jupyter-widgets/controls",
     "model_module_version": "1.5.0",
     "model_name": "ProgressStyleModel",
     "state": {
      "_model_module": "@jupyter-widgets/controls",
      "_model_module_version": "1.5.0",
      "_model_name": "ProgressStyleModel",
      "_view_count": null,
      "_view_module": "@jupyter-widgets/base",
      "_view_module_version": "1.2.0",
      "_view_name": "StyleView",
      "bar_color": null,
      "description_width": ""
     }
    },
    "f3380f75b2524f4888837719aae5597c": {
     "model_module": "@jupyter-widgets/controls",
     "model_module_version": "1.5.0",
     "model_name": "DescriptionStyleModel",
     "state": {
      "_model_module": "@jupyter-widgets/controls",
      "_model_module_version": "1.5.0",
      "_model_name": "DescriptionStyleModel",
      "_view_count": null,
      "_view_module": "@jupyter-widgets/base",
      "_view_module_version": "1.2.0",
      "_view_name": "StyleView",
      "description_width": ""
     }
    },
    "f85235a59f00443787c599e83a2c3cd1": {
     "model_module": "@jupyter-widgets/controls",
     "model_module_version": "1.5.0",
     "model_name": "DescriptionStyleModel",
     "state": {
      "_model_module": "@jupyter-widgets/controls",
      "_model_module_version": "1.5.0",
      "_model_name": "DescriptionStyleModel",
      "_view_count": null,
      "_view_module": "@jupyter-widgets/base",
      "_view_module_version": "1.2.0",
      "_view_name": "StyleView",
      "description_width": ""
     }
    },
    "fdbdea02041341bea56fd63f590a47cf": {
     "model_module": "@jupyter-widgets/base",
     "model_module_version": "1.2.0",
     "model_name": "LayoutModel",
     "state": {
      "_model_module": "@jupyter-widgets/base",
      "_model_module_version": "1.2.0",
      "_model_name": "LayoutModel",
      "_view_count": null,
      "_view_module": "@jupyter-widgets/base",
      "_view_module_version": "1.2.0",
      "_view_name": "LayoutView",
      "align_content": null,
      "align_items": null,
      "align_self": null,
      "border": null,
      "bottom": null,
      "display": null,
      "flex": null,
      "flex_flow": null,
      "grid_area": null,
      "grid_auto_columns": null,
      "grid_auto_flow": null,
      "grid_auto_rows": null,
      "grid_column": null,
      "grid_gap": null,
      "grid_row": null,
      "grid_template_areas": null,
      "grid_template_columns": null,
      "grid_template_rows": null,
      "height": null,
      "justify_content": null,
      "justify_items": null,
      "left": null,
      "margin": null,
      "max_height": null,
      "max_width": null,
      "min_height": null,
      "min_width": null,
      "object_fit": null,
      "object_position": null,
      "order": null,
      "overflow": null,
      "overflow_x": null,
      "overflow_y": null,
      "padding": null,
      "right": null,
      "top": null,
      "visibility": null,
      "width": null
     }
    }
   }
  }
 },
 "nbformat": 4,
 "nbformat_minor": 4
}
